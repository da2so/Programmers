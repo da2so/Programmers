{
  "nbformat": 4,
  "nbformat_minor": 0,
  "metadata": {
    "colab": {
      "name": "Untitled1.ipynb",
      "provenance": [],
      "collapsed_sections": [],
      "authorship_tag": "ABX9TyNX8kSwFnLutSQFVj5KI9M4",
      "include_colab_link": true
    },
    "kernelspec": {
      "name": "python3",
      "display_name": "Python 3"
    },
    "language_info": {
      "name": "python"
    }
  },
  "cells": [
    {
      "cell_type": "markdown",
      "metadata": {
        "id": "view-in-github",
        "colab_type": "text"
      },
      "source": [
        "<a href=\"https://colab.research.google.com/github/da2so/Programmers/blob/master/save_from_ipad.ipynb\" target=\"_parent\"><img src=\"https://colab.research.google.com/assets/colab-badge.svg\" alt=\"Open In Colab\"/></a>"
      ]
    },
    {
      "cell_type": "code",
      "execution_count": 4,
      "metadata": {
        "colab": {
          "base_uri": "https://localhost:8080/"
        },
        "id": "61hyDrS_mQJT",
        "outputId": "7fa0dcd8-520d-45ba-b5e9-5f22993b5191"
      },
      "outputs": [
        {
          "output_type": "stream",
          "name": "stdout",
          "text": [
            "[['eat', 'tea', 'ate'], ['tan', 'nat'], ['bat']]\n",
            "['abc', 'cfc', 'cde']\n"
          ]
        }
      ],
      "source": [
        "from typing import List \n",
        "import collections\n",
        "def groupAnagrams(strs: List[str]) -> List[List[str]]:\n",
        "  anagrams = collections.defaultdict(list)\n",
        "  for word in strs:\n",
        "    anagrams[''.join(sorted(word))].append(word)\n",
        "    \n",
        "  return list(anagrams.values())\n",
        "\n",
        "input = ['eat', 'tea', 'tan', 'ate', 'nat', 'bat']\n",
        "print(groupAnagrams(input))\n",
        "\n",
        "\n",
        "#more about sort\n",
        "\n",
        "a = ['cde', 'cfc', 'abc']\n",
        "def fn(s):\n",
        "  return s[0], s[-1]\n",
        "\n",
        "print(sorted(a, key=fn))"
      ]
    },
    {
      "cell_type": "code",
      "source": [
        "\n",
        "\n",
        "def longestPalindrom(s: str) -> str:\n",
        "  def expand(left: int, right: int) -> str:\n",
        "    while left >= 0 and right < len(s) and s[left] == s[right]:\n",
        "      left -= 1\n",
        "      right += 1 \n",
        "    return s[left+1:right]\n",
        "    \n",
        "  if len(s) <2 or s == s[::-1]:\n",
        "    return s\n",
        "\n",
        "  result = ''\n",
        "  for i in range(len(s)-1):\n",
        "    result = max(result, expand(i, i+1), expand(i, i+2), key=len) \n",
        "  return result\n",
        "\n",
        "input = 'babad'\n",
        "print(longestPalindrom(input))"
      ],
      "metadata": {
        "colab": {
          "base_uri": "https://localhost:8080/"
        },
        "id": "D9Z6jCdfnshu",
        "outputId": "a2dac922-c0eb-4059-dad7-e7af0ed71ed0"
      },
      "execution_count": 6,
      "outputs": [
        {
          "output_type": "stream",
          "name": "stdout",
          "text": [
            "bab\n"
          ]
        }
      ]
    },
    {
      "cell_type": "code",
      "source": [
        "#python의 배열구조는 동적 배열 자료형므로 리스트에 아이템을 추가할때 마다 용량이 꽉 차게 되면 (max data=4 에서 하나더 추가) 동적으로 용량을 늘린다. \n",
        "\n",
        "\n",
        "#덧셈하여 타겟을 만들 수 있는 배열의 두 숫자의 인덱스를 리턴\n",
        "nums = [2, 7, 11, 15]\n",
        "target = 9 \n",
        "\n",
        "from typing import List\n",
        "def twoSum(nums: List[int], target: int) -> List[int]:\n",
        "  nums_map = {}\n",
        "\n",
        "  for i, i_num in enumerate(nums):\n",
        "    if target - i_num in nums_map:\n",
        "      return [i, nums_map[target-i_num]]\n",
        "    \n",
        "    nums_map[i_num] = i\n",
        "\n",
        "print(twoSum(nums, target))\n",
        "  \n"
      ],
      "metadata": {
        "colab": {
          "base_uri": "https://localhost:8080/"
        },
        "id": "OMbOaBq-qwbh",
        "outputId": "135b0fda-0627-4a24-aab7-79948ea3a43a"
      },
      "execution_count": 9,
      "outputs": [
        {
          "output_type": "stream",
          "name": "stdout",
          "text": [
            "[1, 0]\n"
          ]
        }
      ]
    },
    {
      "cell_type": "code",
      "source": [
        "#높이를 입력받아 비 온 후 얼마나 많은 물이 쌓일 수 있는지 계산하라\n",
        "\n"
      ],
      "metadata": {
        "id": "gRN4coOPrN-u"
      },
      "execution_count": null,
      "outputs": []
    }
  ]
}